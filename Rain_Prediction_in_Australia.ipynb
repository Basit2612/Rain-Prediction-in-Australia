{
  "metadata": {
    "kernelspec": {
      "name": "python",
      "display_name": "Python (Pyodide)",
      "language": "python"
    },
    "language_info": {
      "codemirror_mode": {
        "name": "python",
        "version": 3
      },
      "file_extension": ".py",
      "mimetype": "text/x-python",
      "name": "python",
      "nbconvert_exporter": "python",
      "pygments_lexer": "ipython3",
      "version": "3.8"
    },
    "colab": {
      "provenance": [],
      "toc_visible": true,
      "include_colab_link": true
    }
  },
  "nbformat_minor": 0,
  "nbformat": 4,
  "cells": [
    {
      "cell_type": "markdown",
      "metadata": {
        "id": "view-in-github",
        "colab_type": "text"
      },
      "source": [
        "<a href=\"https://colab.research.google.com/github/Basit2612/Rain-Prediction-in-Australia/blob/main/Rain_Prediction_in_Australia.ipynb\" target=\"_parent\"><img src=\"https://colab.research.google.com/assets/colab-badge.svg\" alt=\"Open In Colab\"/></a>"
      ]
    },
    {
      "cell_type": "markdown",
      "source": [
        "# Instructions\n"
      ],
      "metadata": {
        "id": "mDfDYSHxQzvf"
      }
    },
    {
      "cell_type": "markdown",
      "source": [
        "We will use some of the algorithms taught in the course, specifically:\n",
        "\n",
        "1. Linear Regression\n",
        "2. KNN\n",
        "3. Decision Trees\n",
        "4. Logistic Regression\n",
        "5. SVM\n",
        "\n",
        "We will evaluate our models using:\n",
        "\n",
        "1.  Accuracy Score\n",
        "2.  Jaccard Index\n",
        "3.  F1-Score\n",
        "4.  LogLoss\n",
        "5.  Mean Absolute Error\n",
        "6.  Mean Squared Error\n",
        "7.  R2-Score\n"
      ],
      "metadata": {
        "id": "i-HF6_YlQzvg"
      }
    },
    {
      "cell_type": "markdown",
      "source": [
        "# Import the required libraries\n"
      ],
      "metadata": {
        "id": "jAq03xvbQzvj"
      }
    },
    {
      "cell_type": "code",
      "source": [
        "import pandas as pd\n",
        "from sklearn.linear_model import LogisticRegression\n",
        "from sklearn.linear_model import LinearRegression\n",
        "from sklearn import preprocessing\n",
        "from sklearn.preprocessing import LabelEncoder\n",
        "import numpy as np\n",
        "from sklearn.neighbors import KNeighborsClassifier\n",
        "from sklearn.model_selection import train_test_split\n",
        "from sklearn.neighbors import KNeighborsClassifier\n",
        "from sklearn.tree import DecisionTreeClassifier\n",
        "from sklearn import svm\n",
        "from sklearn.metrics import jaccard_score\n",
        "from sklearn.metrics import f1_score\n",
        "from sklearn.metrics import log_loss\n",
        "from sklearn.metrics import confusion_matrix, accuracy_score\n",
        "import sklearn.metrics as metrics"
      ],
      "metadata": {
        "trusted": true,
        "id": "om_hnw_DQzvo"
      },
      "outputs": [],
      "execution_count": 1
    },
    {
      "cell_type": "markdown",
      "source": [
        "# Importing the Dataset\n"
      ],
      "metadata": {
        "id": "4nLRBgn3Qzvp"
      }
    },
    {
      "cell_type": "code",
      "source": [
        "df = pd.read_csv(\"/content/drive/MyDrive/Colab Notebooks/Rain Prediction in Australia/Weather_Data.csv\")\n",
        "df.head()"
      ],
      "metadata": {
        "trusted": true,
        "id": "TNH6War0Qzvs",
        "outputId": "7732ed21-8ff4-44a2-9e1e-3cdd0ab7a15b",
        "colab": {
          "base_uri": "https://localhost:8080/",
          "height": 256
        }
      },
      "outputs": [
        {
          "output_type": "execute_result",
          "data": {
            "text/plain": [
              "       Date  MinTemp  MaxTemp  Rainfall  Evaporation  Sunshine WindGustDir  \\\n",
              "0  2/1/2008     19.5     22.4      15.6          6.2       0.0           W   \n",
              "1  2/2/2008     19.5     25.6       6.0          3.4       2.7           W   \n",
              "2  2/3/2008     21.6     24.5       6.6          2.4       0.1           W   \n",
              "3  2/4/2008     20.2     22.8      18.8          2.2       0.0           W   \n",
              "4  2/5/2008     19.7     25.7      77.4          4.8       0.0           W   \n",
              "\n",
              "   WindGustSpeed WindDir9am WindDir3pm  ...  Humidity9am  Humidity3pm  \\\n",
              "0             41          S        SSW  ...           92           84   \n",
              "1             41          W          E  ...           83           73   \n",
              "2             41        ESE        ESE  ...           88           86   \n",
              "3             41        NNE          E  ...           83           90   \n",
              "4             41        NNE          W  ...           88           74   \n",
              "\n",
              "   Pressure9am  Pressure3pm  Cloud9am  Cloud3pm  Temp9am  Temp3pm  RainToday  \\\n",
              "0       1017.6       1017.4         8         8     20.7     20.9        Yes   \n",
              "1       1017.9       1016.4         7         7     22.4     24.8        Yes   \n",
              "2       1016.7       1015.6         7         8     23.5     23.0        Yes   \n",
              "3       1014.2       1011.8         8         8     21.4     20.9        Yes   \n",
              "4       1008.3       1004.8         8         8     22.5     25.5        Yes   \n",
              "\n",
              "   RainTomorrow  \n",
              "0           Yes  \n",
              "1           Yes  \n",
              "2           Yes  \n",
              "3           Yes  \n",
              "4           Yes  \n",
              "\n",
              "[5 rows x 22 columns]"
            ],
            "text/html": [
              "\n",
              "  <div id=\"df-2e2d2a25-44ed-40ee-9bdc-64b052ccf217\" class=\"colab-df-container\">\n",
              "    <div>\n",
              "<style scoped>\n",
              "    .dataframe tbody tr th:only-of-type {\n",
              "        vertical-align: middle;\n",
              "    }\n",
              "\n",
              "    .dataframe tbody tr th {\n",
              "        vertical-align: top;\n",
              "    }\n",
              "\n",
              "    .dataframe thead th {\n",
              "        text-align: right;\n",
              "    }\n",
              "</style>\n",
              "<table border=\"1\" class=\"dataframe\">\n",
              "  <thead>\n",
              "    <tr style=\"text-align: right;\">\n",
              "      <th></th>\n",
              "      <th>Date</th>\n",
              "      <th>MinTemp</th>\n",
              "      <th>MaxTemp</th>\n",
              "      <th>Rainfall</th>\n",
              "      <th>Evaporation</th>\n",
              "      <th>Sunshine</th>\n",
              "      <th>WindGustDir</th>\n",
              "      <th>WindGustSpeed</th>\n",
              "      <th>WindDir9am</th>\n",
              "      <th>WindDir3pm</th>\n",
              "      <th>...</th>\n",
              "      <th>Humidity9am</th>\n",
              "      <th>Humidity3pm</th>\n",
              "      <th>Pressure9am</th>\n",
              "      <th>Pressure3pm</th>\n",
              "      <th>Cloud9am</th>\n",
              "      <th>Cloud3pm</th>\n",
              "      <th>Temp9am</th>\n",
              "      <th>Temp3pm</th>\n",
              "      <th>RainToday</th>\n",
              "      <th>RainTomorrow</th>\n",
              "    </tr>\n",
              "  </thead>\n",
              "  <tbody>\n",
              "    <tr>\n",
              "      <th>0</th>\n",
              "      <td>2/1/2008</td>\n",
              "      <td>19.5</td>\n",
              "      <td>22.4</td>\n",
              "      <td>15.6</td>\n",
              "      <td>6.2</td>\n",
              "      <td>0.0</td>\n",
              "      <td>W</td>\n",
              "      <td>41</td>\n",
              "      <td>S</td>\n",
              "      <td>SSW</td>\n",
              "      <td>...</td>\n",
              "      <td>92</td>\n",
              "      <td>84</td>\n",
              "      <td>1017.6</td>\n",
              "      <td>1017.4</td>\n",
              "      <td>8</td>\n",
              "      <td>8</td>\n",
              "      <td>20.7</td>\n",
              "      <td>20.9</td>\n",
              "      <td>Yes</td>\n",
              "      <td>Yes</td>\n",
              "    </tr>\n",
              "    <tr>\n",
              "      <th>1</th>\n",
              "      <td>2/2/2008</td>\n",
              "      <td>19.5</td>\n",
              "      <td>25.6</td>\n",
              "      <td>6.0</td>\n",
              "      <td>3.4</td>\n",
              "      <td>2.7</td>\n",
              "      <td>W</td>\n",
              "      <td>41</td>\n",
              "      <td>W</td>\n",
              "      <td>E</td>\n",
              "      <td>...</td>\n",
              "      <td>83</td>\n",
              "      <td>73</td>\n",
              "      <td>1017.9</td>\n",
              "      <td>1016.4</td>\n",
              "      <td>7</td>\n",
              "      <td>7</td>\n",
              "      <td>22.4</td>\n",
              "      <td>24.8</td>\n",
              "      <td>Yes</td>\n",
              "      <td>Yes</td>\n",
              "    </tr>\n",
              "    <tr>\n",
              "      <th>2</th>\n",
              "      <td>2/3/2008</td>\n",
              "      <td>21.6</td>\n",
              "      <td>24.5</td>\n",
              "      <td>6.6</td>\n",
              "      <td>2.4</td>\n",
              "      <td>0.1</td>\n",
              "      <td>W</td>\n",
              "      <td>41</td>\n",
              "      <td>ESE</td>\n",
              "      <td>ESE</td>\n",
              "      <td>...</td>\n",
              "      <td>88</td>\n",
              "      <td>86</td>\n",
              "      <td>1016.7</td>\n",
              "      <td>1015.6</td>\n",
              "      <td>7</td>\n",
              "      <td>8</td>\n",
              "      <td>23.5</td>\n",
              "      <td>23.0</td>\n",
              "      <td>Yes</td>\n",
              "      <td>Yes</td>\n",
              "    </tr>\n",
              "    <tr>\n",
              "      <th>3</th>\n",
              "      <td>2/4/2008</td>\n",
              "      <td>20.2</td>\n",
              "      <td>22.8</td>\n",
              "      <td>18.8</td>\n",
              "      <td>2.2</td>\n",
              "      <td>0.0</td>\n",
              "      <td>W</td>\n",
              "      <td>41</td>\n",
              "      <td>NNE</td>\n",
              "      <td>E</td>\n",
              "      <td>...</td>\n",
              "      <td>83</td>\n",
              "      <td>90</td>\n",
              "      <td>1014.2</td>\n",
              "      <td>1011.8</td>\n",
              "      <td>8</td>\n",
              "      <td>8</td>\n",
              "      <td>21.4</td>\n",
              "      <td>20.9</td>\n",
              "      <td>Yes</td>\n",
              "      <td>Yes</td>\n",
              "    </tr>\n",
              "    <tr>\n",
              "      <th>4</th>\n",
              "      <td>2/5/2008</td>\n",
              "      <td>19.7</td>\n",
              "      <td>25.7</td>\n",
              "      <td>77.4</td>\n",
              "      <td>4.8</td>\n",
              "      <td>0.0</td>\n",
              "      <td>W</td>\n",
              "      <td>41</td>\n",
              "      <td>NNE</td>\n",
              "      <td>W</td>\n",
              "      <td>...</td>\n",
              "      <td>88</td>\n",
              "      <td>74</td>\n",
              "      <td>1008.3</td>\n",
              "      <td>1004.8</td>\n",
              "      <td>8</td>\n",
              "      <td>8</td>\n",
              "      <td>22.5</td>\n",
              "      <td>25.5</td>\n",
              "      <td>Yes</td>\n",
              "      <td>Yes</td>\n",
              "    </tr>\n",
              "  </tbody>\n",
              "</table>\n",
              "<p>5 rows × 22 columns</p>\n",
              "</div>\n",
              "    <div class=\"colab-df-buttons\">\n",
              "\n",
              "  <div class=\"colab-df-container\">\n",
              "    <button class=\"colab-df-convert\" onclick=\"convertToInteractive('df-2e2d2a25-44ed-40ee-9bdc-64b052ccf217')\"\n",
              "            title=\"Convert this dataframe to an interactive table.\"\n",
              "            style=\"display:none;\">\n",
              "\n",
              "  <svg xmlns=\"http://www.w3.org/2000/svg\" height=\"24px\" viewBox=\"0 -960 960 960\">\n",
              "    <path d=\"M120-120v-720h720v720H120Zm60-500h600v-160H180v160Zm220 220h160v-160H400v160Zm0 220h160v-160H400v160ZM180-400h160v-160H180v160Zm440 0h160v-160H620v160ZM180-180h160v-160H180v160Zm440 0h160v-160H620v160Z\"/>\n",
              "  </svg>\n",
              "    </button>\n",
              "\n",
              "  <style>\n",
              "    .colab-df-container {\n",
              "      display:flex;\n",
              "      gap: 12px;\n",
              "    }\n",
              "\n",
              "    .colab-df-convert {\n",
              "      background-color: #E8F0FE;\n",
              "      border: none;\n",
              "      border-radius: 50%;\n",
              "      cursor: pointer;\n",
              "      display: none;\n",
              "      fill: #1967D2;\n",
              "      height: 32px;\n",
              "      padding: 0 0 0 0;\n",
              "      width: 32px;\n",
              "    }\n",
              "\n",
              "    .colab-df-convert:hover {\n",
              "      background-color: #E2EBFA;\n",
              "      box-shadow: 0px 1px 2px rgba(60, 64, 67, 0.3), 0px 1px 3px 1px rgba(60, 64, 67, 0.15);\n",
              "      fill: #174EA6;\n",
              "    }\n",
              "\n",
              "    .colab-df-buttons div {\n",
              "      margin-bottom: 4px;\n",
              "    }\n",
              "\n",
              "    [theme=dark] .colab-df-convert {\n",
              "      background-color: #3B4455;\n",
              "      fill: #D2E3FC;\n",
              "    }\n",
              "\n",
              "    [theme=dark] .colab-df-convert:hover {\n",
              "      background-color: #434B5C;\n",
              "      box-shadow: 0px 1px 3px 1px rgba(0, 0, 0, 0.15);\n",
              "      filter: drop-shadow(0px 1px 2px rgba(0, 0, 0, 0.3));\n",
              "      fill: #FFFFFF;\n",
              "    }\n",
              "  </style>\n",
              "\n",
              "    <script>\n",
              "      const buttonEl =\n",
              "        document.querySelector('#df-2e2d2a25-44ed-40ee-9bdc-64b052ccf217 button.colab-df-convert');\n",
              "      buttonEl.style.display =\n",
              "        google.colab.kernel.accessAllowed ? 'block' : 'none';\n",
              "\n",
              "      async function convertToInteractive(key) {\n",
              "        const element = document.querySelector('#df-2e2d2a25-44ed-40ee-9bdc-64b052ccf217');\n",
              "        const dataTable =\n",
              "          await google.colab.kernel.invokeFunction('convertToInteractive',\n",
              "                                                    [key], {});\n",
              "        if (!dataTable) return;\n",
              "\n",
              "        const docLinkHtml = 'Like what you see? Visit the ' +\n",
              "          '<a target=\"_blank\" href=https://colab.research.google.com/notebooks/data_table.ipynb>data table notebook</a>'\n",
              "          + ' to learn more about interactive tables.';\n",
              "        element.innerHTML = '';\n",
              "        dataTable['output_type'] = 'display_data';\n",
              "        await google.colab.output.renderOutput(dataTable, element);\n",
              "        const docLink = document.createElement('div');\n",
              "        docLink.innerHTML = docLinkHtml;\n",
              "        element.appendChild(docLink);\n",
              "      }\n",
              "    </script>\n",
              "  </div>\n",
              "\n",
              "\n",
              "<div id=\"df-63c39128-443a-461d-aa26-bb5054b603e2\">\n",
              "  <button class=\"colab-df-quickchart\" onclick=\"quickchart('df-63c39128-443a-461d-aa26-bb5054b603e2')\"\n",
              "            title=\"Suggest charts\"\n",
              "            style=\"display:none;\">\n",
              "\n",
              "<svg xmlns=\"http://www.w3.org/2000/svg\" height=\"24px\"viewBox=\"0 0 24 24\"\n",
              "     width=\"24px\">\n",
              "    <g>\n",
              "        <path d=\"M19 3H5c-1.1 0-2 .9-2 2v14c0 1.1.9 2 2 2h14c1.1 0 2-.9 2-2V5c0-1.1-.9-2-2-2zM9 17H7v-7h2v7zm4 0h-2V7h2v10zm4 0h-2v-4h2v4z\"/>\n",
              "    </g>\n",
              "</svg>\n",
              "  </button>\n",
              "\n",
              "<style>\n",
              "  .colab-df-quickchart {\n",
              "      --bg-color: #E8F0FE;\n",
              "      --fill-color: #1967D2;\n",
              "      --hover-bg-color: #E2EBFA;\n",
              "      --hover-fill-color: #174EA6;\n",
              "      --disabled-fill-color: #AAA;\n",
              "      --disabled-bg-color: #DDD;\n",
              "  }\n",
              "\n",
              "  [theme=dark] .colab-df-quickchart {\n",
              "      --bg-color: #3B4455;\n",
              "      --fill-color: #D2E3FC;\n",
              "      --hover-bg-color: #434B5C;\n",
              "      --hover-fill-color: #FFFFFF;\n",
              "      --disabled-bg-color: #3B4455;\n",
              "      --disabled-fill-color: #666;\n",
              "  }\n",
              "\n",
              "  .colab-df-quickchart {\n",
              "    background-color: var(--bg-color);\n",
              "    border: none;\n",
              "    border-radius: 50%;\n",
              "    cursor: pointer;\n",
              "    display: none;\n",
              "    fill: var(--fill-color);\n",
              "    height: 32px;\n",
              "    padding: 0;\n",
              "    width: 32px;\n",
              "  }\n",
              "\n",
              "  .colab-df-quickchart:hover {\n",
              "    background-color: var(--hover-bg-color);\n",
              "    box-shadow: 0 1px 2px rgba(60, 64, 67, 0.3), 0 1px 3px 1px rgba(60, 64, 67, 0.15);\n",
              "    fill: var(--button-hover-fill-color);\n",
              "  }\n",
              "\n",
              "  .colab-df-quickchart-complete:disabled,\n",
              "  .colab-df-quickchart-complete:disabled:hover {\n",
              "    background-color: var(--disabled-bg-color);\n",
              "    fill: var(--disabled-fill-color);\n",
              "    box-shadow: none;\n",
              "  }\n",
              "\n",
              "  .colab-df-spinner {\n",
              "    border: 2px solid var(--fill-color);\n",
              "    border-color: transparent;\n",
              "    border-bottom-color: var(--fill-color);\n",
              "    animation:\n",
              "      spin 1s steps(1) infinite;\n",
              "  }\n",
              "\n",
              "  @keyframes spin {\n",
              "    0% {\n",
              "      border-color: transparent;\n",
              "      border-bottom-color: var(--fill-color);\n",
              "      border-left-color: var(--fill-color);\n",
              "    }\n",
              "    20% {\n",
              "      border-color: transparent;\n",
              "      border-left-color: var(--fill-color);\n",
              "      border-top-color: var(--fill-color);\n",
              "    }\n",
              "    30% {\n",
              "      border-color: transparent;\n",
              "      border-left-color: var(--fill-color);\n",
              "      border-top-color: var(--fill-color);\n",
              "      border-right-color: var(--fill-color);\n",
              "    }\n",
              "    40% {\n",
              "      border-color: transparent;\n",
              "      border-right-color: var(--fill-color);\n",
              "      border-top-color: var(--fill-color);\n",
              "    }\n",
              "    60% {\n",
              "      border-color: transparent;\n",
              "      border-right-color: var(--fill-color);\n",
              "    }\n",
              "    80% {\n",
              "      border-color: transparent;\n",
              "      border-right-color: var(--fill-color);\n",
              "      border-bottom-color: var(--fill-color);\n",
              "    }\n",
              "    90% {\n",
              "      border-color: transparent;\n",
              "      border-bottom-color: var(--fill-color);\n",
              "    }\n",
              "  }\n",
              "</style>\n",
              "\n",
              "  <script>\n",
              "    async function quickchart(key) {\n",
              "      const quickchartButtonEl =\n",
              "        document.querySelector('#' + key + ' button');\n",
              "      quickchartButtonEl.disabled = true;  // To prevent multiple clicks.\n",
              "      quickchartButtonEl.classList.add('colab-df-spinner');\n",
              "      try {\n",
              "        const charts = await google.colab.kernel.invokeFunction(\n",
              "            'suggestCharts', [key], {});\n",
              "      } catch (error) {\n",
              "        console.error('Error during call to suggestCharts:', error);\n",
              "      }\n",
              "      quickchartButtonEl.classList.remove('colab-df-spinner');\n",
              "      quickchartButtonEl.classList.add('colab-df-quickchart-complete');\n",
              "    }\n",
              "    (() => {\n",
              "      let quickchartButtonEl =\n",
              "        document.querySelector('#df-63c39128-443a-461d-aa26-bb5054b603e2 button');\n",
              "      quickchartButtonEl.style.display =\n",
              "        google.colab.kernel.accessAllowed ? 'block' : 'none';\n",
              "    })();\n",
              "  </script>\n",
              "</div>\n",
              "\n",
              "    </div>\n",
              "  </div>\n"
            ],
            "application/vnd.google.colaboratory.intrinsic+json": {
              "type": "dataframe",
              "variable_name": "df"
            }
          },
          "metadata": {},
          "execution_count": 2
        }
      ],
      "execution_count": 2
    },
    {
      "cell_type": "markdown",
      "source": [
        "# One Hot Encoding\n"
      ],
      "metadata": {
        "id": "lS9aFfLMQzvv"
      }
    },
    {
      "cell_type": "code",
      "source": [
        "df_sydney_processed = pd.get_dummies(data=df, columns=['RainToday', 'WindGustDir', 'WindDir9am', 'WindDir3pm'])"
      ],
      "metadata": {
        "trusted": true,
        "id": "w01ccjOfQzvw"
      },
      "outputs": [],
      "execution_count": 3
    },
    {
      "cell_type": "code",
      "source": [
        "df_sydney_processed[\"RainTomorrow\"] = LabelEncoder().fit_transform(df_sydney_processed[\"RainTomorrow\"])"
      ],
      "metadata": {
        "trusted": true,
        "id": "axs4nvrrQzvx"
      },
      "outputs": [],
      "execution_count": 4
    },
    {
      "cell_type": "markdown",
      "source": [
        "# Training Data and Test Data\n"
      ],
      "metadata": {
        "id": "MV-9Pt6TQzvx"
      }
    },
    {
      "cell_type": "code",
      "source": [
        "df_sydney_processed.drop('Date',axis=1,inplace=True)"
      ],
      "metadata": {
        "trusted": true,
        "id": "OZB3KDlaQzvy"
      },
      "outputs": [],
      "execution_count": 5
    },
    {
      "cell_type": "code",
      "source": [
        "df_sydney_processed = df_sydney_processed.astype(float)"
      ],
      "metadata": {
        "trusted": true,
        "id": "DNkOBCQ-Qzvz"
      },
      "outputs": [],
      "execution_count": 6
    },
    {
      "cell_type": "code",
      "source": [
        "features = df_sydney_processed.drop(columns='RainTomorrow', axis=1)\n",
        "Y = df_sydney_processed['RainTomorrow']"
      ],
      "metadata": {
        "trusted": true,
        "id": "NVs-oUWLQzv0"
      },
      "outputs": [],
      "execution_count": 7
    },
    {
      "cell_type": "markdown",
      "source": [
        "# Linear Regression\n"
      ],
      "metadata": {
        "id": "N2rxWfD9Qzv1"
      }
    },
    {
      "cell_type": "code",
      "source": [
        "X_train, X_test, Y_train, Y_test = train_test_split(features, Y, test_size=0.2, random_state=10)"
      ],
      "metadata": {
        "trusted": true,
        "id": "zQ9gmsLFQzv2"
      },
      "outputs": [],
      "execution_count": 8
    },
    {
      "cell_type": "code",
      "source": [
        "X_train, X_test, Y_train, Y_test"
      ],
      "metadata": {
        "trusted": true,
        "id": "eNessarnQzv2",
        "outputId": "295e4871-eb11-4743-8e6c-98df11a8ff44",
        "colab": {
          "base_uri": "https://localhost:8080/"
        }
      },
      "outputs": [
        {
          "output_type": "execute_result",
          "data": {
            "text/plain": [
              "(      MinTemp  MaxTemp  Rainfall  Evaporation  Sunshine  WindGustSpeed  \\\n",
              " 3188     14.8     22.0      33.8          4.2       1.5           50.0   \n",
              " 2582      8.1     18.4       0.0          4.8       8.5           41.0   \n",
              " 815      15.4     21.1       0.0          3.8       5.9           41.0   \n",
              " 1024     20.0     26.5       0.0          8.6      13.1           30.0   \n",
              " 1320     14.8     18.3      38.8          7.4       0.1           48.0   \n",
              " ...       ...      ...       ...          ...       ...            ...   \n",
              " 3195     11.7     17.9       8.8          7.8       6.1           54.0   \n",
              " 1344     17.0     21.7       0.0          5.4      10.7           26.0   \n",
              " 527       6.7     17.3       0.0          2.6       6.9           41.0   \n",
              " 3197     15.0     22.7       9.4          4.2       2.8           43.0   \n",
              " 1289     15.9     30.1       0.2          7.6      12.2           33.0   \n",
              " \n",
              "       WindSpeed9am  WindSpeed3pm  Humidity9am  Humidity3pm  ...  \\\n",
              " 3188          19.0          24.0         90.0         49.0  ...   \n",
              " 2582          20.0          11.0         70.0         50.0  ...   \n",
              " 815            7.0          28.0         59.0         41.0  ...   \n",
              " 1024           7.0          20.0         64.0         63.0  ...   \n",
              " 1320          19.0          24.0         93.0         86.0  ...   \n",
              " ...            ...           ...          ...          ...  ...   \n",
              " 3195          26.0          26.0         51.0         56.0  ...   \n",
              " 1344          15.0          20.0         50.0         47.0  ...   \n",
              " 527           17.0           7.0         79.0         42.0  ...   \n",
              " 3197          19.0          17.0         71.0         75.0  ...   \n",
              " 1289          11.0           9.0         59.0         39.0  ...   \n",
              " \n",
              "       WindDir3pm_NNW  WindDir3pm_NW  WindDir3pm_S  WindDir3pm_SE  \\\n",
              " 3188             0.0            0.0           0.0            0.0   \n",
              " 2582             0.0            0.0           0.0            0.0   \n",
              " 815              0.0            0.0           0.0            0.0   \n",
              " 1024             0.0            0.0           0.0            0.0   \n",
              " 1320             0.0            0.0           0.0            0.0   \n",
              " ...              ...            ...           ...            ...   \n",
              " 3195             0.0            0.0           0.0            0.0   \n",
              " 1344             0.0            0.0           0.0            0.0   \n",
              " 527              0.0            1.0           0.0            0.0   \n",
              " 3197             0.0            0.0           0.0            0.0   \n",
              " 1289             0.0            0.0           0.0            0.0   \n",
              " \n",
              "       WindDir3pm_SSE  WindDir3pm_SSW  WindDir3pm_SW  WindDir3pm_W  \\\n",
              " 3188             0.0             0.0            0.0           0.0   \n",
              " 2582             0.0             0.0            0.0           0.0   \n",
              " 815              0.0             0.0            0.0           1.0   \n",
              " 1024             0.0             0.0            0.0           0.0   \n",
              " 1320             1.0             0.0            0.0           0.0   \n",
              " ...              ...             ...            ...           ...   \n",
              " 3195             0.0             0.0            0.0           1.0   \n",
              " 1344             0.0             0.0            0.0           0.0   \n",
              " 527              0.0             0.0            0.0           0.0   \n",
              " 3197             0.0             1.0            0.0           0.0   \n",
              " 1289             0.0             0.0            0.0           0.0   \n",
              " \n",
              "       WindDir3pm_WNW  WindDir3pm_WSW  \n",
              " 3188             0.0             0.0  \n",
              " 2582             0.0             0.0  \n",
              " 815              0.0             0.0  \n",
              " 1024             0.0             0.0  \n",
              " 1320             0.0             0.0  \n",
              " ...              ...             ...  \n",
              " 3195             0.0             0.0  \n",
              " 1344             0.0             0.0  \n",
              " 527              0.0             0.0  \n",
              " 3197             0.0             0.0  \n",
              " 1289             0.0             0.0  \n",
              " \n",
              " [2616 rows x 66 columns],\n",
              "       MinTemp  MaxTemp  Rainfall  Evaporation  Sunshine  WindGustSpeed  \\\n",
              " 3066     18.7     35.7       0.2          6.0       9.8           57.0   \n",
              " 2456     15.0     24.8      22.4          3.4       9.7           37.0   \n",
              " 1629      8.5     16.0       3.4          2.0       4.3           74.0   \n",
              " 838      11.7     19.9       1.6          1.4       4.6           41.0   \n",
              " 2506      7.9     19.3       2.2          4.0      10.1           46.0   \n",
              " ...       ...      ...       ...          ...       ...            ...   \n",
              " 2632     12.2     19.9       0.0          4.2       8.2           43.0   \n",
              " 1725     20.1     28.7       0.2          4.2      10.7           31.0   \n",
              " 1158     11.6     15.7      18.2          4.8       0.3           57.0   \n",
              " 1661     16.9     23.9       0.0          9.8       9.9           57.0   \n",
              " 68       15.6     22.2      22.8          5.4       5.8           41.0   \n",
              " \n",
              "       WindSpeed9am  WindSpeed3pm  Humidity9am  Humidity3pm  ...  \\\n",
              " 3066          13.0          17.0         44.0         24.0  ...   \n",
              " 2456          19.0          20.0         72.0         53.0  ...   \n",
              " 1629          35.0          22.0         84.0         87.0  ...   \n",
              " 838           15.0           7.0         92.0         53.0  ...   \n",
              " 2506          28.0          20.0         49.0         34.0  ...   \n",
              " ...            ...           ...          ...          ...  ...   \n",
              " 2632           9.0          28.0         53.0         57.0  ...   \n",
              " 1725          11.0          20.0         70.0         65.0  ...   \n",
              " 1158          28.0          35.0         89.0         67.0  ...   \n",
              " 1661          19.0          28.0         60.0         51.0  ...   \n",
              " 68            13.0          20.0         96.0         62.0  ...   \n",
              " \n",
              "       WindDir3pm_NNW  WindDir3pm_NW  WindDir3pm_S  WindDir3pm_SE  \\\n",
              " 3066             0.0            0.0           0.0            0.0   \n",
              " 2456             0.0            0.0           0.0            0.0   \n",
              " 1629             0.0            0.0           0.0            0.0   \n",
              " 838              0.0            0.0           0.0            0.0   \n",
              " 2506             0.0            0.0           0.0            0.0   \n",
              " ...              ...            ...           ...            ...   \n",
              " 2632             0.0            0.0           0.0            1.0   \n",
              " 1725             0.0            0.0           0.0            0.0   \n",
              " 1158             0.0            0.0           0.0            0.0   \n",
              " 1661             0.0            0.0           0.0            0.0   \n",
              " 68               0.0            0.0           0.0            0.0   \n",
              " \n",
              "       WindDir3pm_SSE  WindDir3pm_SSW  WindDir3pm_SW  WindDir3pm_W  \\\n",
              " 3066             0.0             0.0            0.0           0.0   \n",
              " 2456             1.0             0.0            0.0           0.0   \n",
              " 1629             0.0             1.0            0.0           0.0   \n",
              " 838              0.0             0.0            0.0           0.0   \n",
              " 2506             0.0             0.0            0.0           1.0   \n",
              " ...              ...             ...            ...           ...   \n",
              " 2632             0.0             0.0            0.0           0.0   \n",
              " 1725             0.0             0.0            0.0           0.0   \n",
              " 1158             1.0             0.0            0.0           0.0   \n",
              " 1661             1.0             0.0            0.0           0.0   \n",
              " 68               0.0             0.0            0.0           0.0   \n",
              " \n",
              "       WindDir3pm_WNW  WindDir3pm_WSW  \n",
              " 3066             0.0             0.0  \n",
              " 2456             0.0             0.0  \n",
              " 1629             0.0             0.0  \n",
              " 838              0.0             0.0  \n",
              " 2506             0.0             0.0  \n",
              " ...              ...             ...  \n",
              " 2632             0.0             0.0  \n",
              " 1725             0.0             0.0  \n",
              " 1158             0.0             0.0  \n",
              " 1661             0.0             0.0  \n",
              " 68               0.0             0.0  \n",
              " \n",
              " [655 rows x 66 columns],\n",
              " 3188    1.0\n",
              " 2582    0.0\n",
              " 815     1.0\n",
              " 1024    0.0\n",
              " 1320    1.0\n",
              "        ... \n",
              " 3195    0.0\n",
              " 1344    0.0\n",
              " 527     0.0\n",
              " 3197    1.0\n",
              " 1289    0.0\n",
              " Name: RainTomorrow, Length: 2616, dtype: float64,\n",
              " 3066    0.0\n",
              " 2456    0.0\n",
              " 1629    1.0\n",
              " 838     1.0\n",
              " 2506    0.0\n",
              "        ... \n",
              " 2632    1.0\n",
              " 1725    0.0\n",
              " 1158    1.0\n",
              " 1661    0.0\n",
              " 68      1.0\n",
              " Name: RainTomorrow, Length: 655, dtype: float64)"
            ]
          },
          "metadata": {},
          "execution_count": 9
        }
      ],
      "execution_count": 9
    },
    {
      "cell_type": "code",
      "source": [
        "LinearReg = LinearRegression().fit(X_train, Y_train)"
      ],
      "metadata": {
        "trusted": true,
        "id": "gI8I62hfQzv5"
      },
      "outputs": [],
      "execution_count": 10
    },
    {
      "cell_type": "code",
      "source": [
        "predictions = LinearReg.predict(X_test)"
      ],
      "metadata": {
        "trusted": true,
        "id": "-j3XQSAHQzv7"
      },
      "outputs": [],
      "execution_count": 11
    },
    {
      "cell_type": "code",
      "source": [
        "from sklearn.metrics import mean_squared_error, mean_absolute_error, r2_score"
      ],
      "metadata": {
        "trusted": true,
        "id": "DxTGCr0kQzv9"
      },
      "outputs": [],
      "execution_count": 12
    },
    {
      "cell_type": "code",
      "source": [
        "LinearRegression_MAE = mean_absolute_error(Y_test, predictions)\n",
        "LinearRegression_MSE = mean_squared_error (Y_test, predictions)\n",
        "LinearRegression_R2 = r2_score(Y_test,predictions)\n",
        "print(f\"Mean Absolute Error:\\t{LinearRegression_MAE}\\nMean Squared Error:\\t{LinearRegression_MSE}\\nR2Score:\\t{LinearRegression_R2}\")"
      ],
      "metadata": {
        "trusted": true,
        "id": "1PJVJ5jvQzv-",
        "outputId": "dd648377-e0e4-4434-d34a-a31526d53dd2",
        "colab": {
          "base_uri": "https://localhost:8080/"
        }
      },
      "outputs": [
        {
          "output_type": "stream",
          "name": "stdout",
          "text": [
            "Mean Absolute Error:\t0.2563092413749404\n",
            "Mean Squared Error:\t0.11571947414932758\n",
            "R2Score:\t0.42713759580777166\n"
          ]
        }
      ],
      "execution_count": 13
    },
    {
      "cell_type": "code",
      "source": [
        "name = [\"Description\",\"Score\"]\n",
        "Columns = [[\"Mean Absolute Error\", LinearRegression_MAE],\n",
        "           [\"Mean Squared Error\", LinearRegression_MSE],\n",
        "           [\"R2Score\", LinearRegression_R2]]\n",
        "Report = pd.DataFrame(Columns, columns = name)\n",
        "print(Report)"
      ],
      "metadata": {
        "trusted": true,
        "id": "BwzIS-FCQzwB",
        "outputId": "1f407bee-3f9f-4792-b71e-59ebb3c24478",
        "colab": {
          "base_uri": "https://localhost:8080/"
        }
      },
      "outputs": [
        {
          "output_type": "stream",
          "name": "stdout",
          "text": [
            "           Description     Score\n",
            "0  Mean Absolute Error  0.256309\n",
            "1   Mean Squared Error  0.115719\n",
            "2              R2Score  0.427138\n"
          ]
        }
      ],
      "execution_count": 14
    },
    {
      "cell_type": "markdown",
      "source": [
        "# KNN\n"
      ],
      "metadata": {
        "id": "UXewOAUAQzwC"
      }
    },
    {
      "cell_type": "code",
      "source": [
        "KNN = KNeighborsClassifier(n_neighbors = 4).fit(X_train, Y_train)"
      ],
      "metadata": {
        "trusted": true,
        "id": "cbfK9L1-QzwE"
      },
      "outputs": [],
      "execution_count": 15
    },
    {
      "cell_type": "code",
      "source": [
        "predictions = KNN.predict(X_test)"
      ],
      "metadata": {
        "trusted": true,
        "id": "8awHSRQ0QzwG"
      },
      "outputs": [],
      "execution_count": 16
    },
    {
      "cell_type": "code",
      "source": [
        "KNN_Accuracy_Score = accuracy_score(Y_test,predictions)\n",
        "KNN_JaccardIndex = jaccard_score(Y_test,predictions)\n",
        "KNN_F1_Score = f1_score(Y_test,predictions)\n",
        "print(f\"Accuracy_Score:\\t{KNN_Accuracy_Score}\\nJaccard Index:\\t{KNN_JaccardIndex}\\nF1-Score:\\t{KNN_F1_Score}\")"
      ],
      "metadata": {
        "trusted": true,
        "id": "lUZgV6wdQzwJ",
        "outputId": "f1b13bd2-8d28-45d4-eb86-facf39704739",
        "colab": {
          "base_uri": "https://localhost:8080/"
        }
      },
      "outputs": [
        {
          "output_type": "stream",
          "name": "stdout",
          "text": [
            "Accuracy_Score:\t0.8183206106870229\n",
            "Jaccard Index:\t0.4251207729468599\n",
            "F1-Score:\t0.5966101694915255\n"
          ]
        }
      ],
      "execution_count": 17
    },
    {
      "cell_type": "markdown",
      "source": [
        "# Decision Tree\n"
      ],
      "metadata": {
        "id": "sI507VmbQzwK"
      }
    },
    {
      "cell_type": "code",
      "source": [
        "Tree = DecisionTreeClassifier().fit(X_train, Y_train)"
      ],
      "metadata": {
        "trusted": true,
        "id": "rJE0_f5gQzwM"
      },
      "outputs": [],
      "execution_count": 18
    },
    {
      "cell_type": "code",
      "source": [
        "predictions = Tree.predict(X_test)"
      ],
      "metadata": {
        "trusted": true,
        "id": "2OtWhn5QQzwP"
      },
      "outputs": [],
      "execution_count": 19
    },
    {
      "cell_type": "code",
      "source": [
        "Tree_Accuracy_Score = accuracy_score(Y_test, predictions)\n",
        "Tree_JaccardIndex = jaccard_score(Y_test, predictions)\n",
        "Tree_F1_Score = f1_score(Y_test, predictions)\n",
        "print(f\"Accuracy_Score:\\t{Tree_Accuracy_Score}\\nJaccard Index:\\t{Tree_JaccardIndex}\\nF1-Score:\\t{Tree_F1_Score}\")"
      ],
      "metadata": {
        "trusted": true,
        "id": "8wYxMHJSQzwR",
        "outputId": "8041f04c-27b6-4c08-e4a3-528e93eccda3",
        "colab": {
          "base_uri": "https://localhost:8080/"
        }
      },
      "outputs": [
        {
          "output_type": "stream",
          "name": "stdout",
          "text": [
            "Accuracy_Score:\t0.7557251908396947\n",
            "Jaccard Index:\t0.40074906367041196\n",
            "F1-Score:\t0.572192513368984\n"
          ]
        }
      ],
      "execution_count": 20
    },
    {
      "cell_type": "markdown",
      "source": [
        "# Logistic Regression\n"
      ],
      "metadata": {
        "id": "4vrqdH5_QzwS"
      }
    },
    {
      "cell_type": "code",
      "source": [
        "x_train, x_test, y_train, y_test = train_test_split(features, Y, test_size = 0.2, random_state=1)"
      ],
      "metadata": {
        "trusted": true,
        "id": "YBOO8biGQzwU"
      },
      "outputs": [],
      "execution_count": 21
    },
    {
      "cell_type": "code",
      "source": [
        "LR = LogisticRegression(solver=\"liblinear\").fit(x_train,y_train)"
      ],
      "metadata": {
        "trusted": true,
        "id": "YcK1iCtOQzwX"
      },
      "outputs": [],
      "execution_count": 22
    },
    {
      "cell_type": "code",
      "source": [
        "predictions = LR.predict(x_test)"
      ],
      "metadata": {
        "trusted": true,
        "id": "lOHz6NlAQzwZ"
      },
      "outputs": [],
      "execution_count": 23
    },
    {
      "cell_type": "code",
      "source": [
        "predict_proba = LR.predict_proba(x_test)"
      ],
      "metadata": {
        "trusted": true,
        "id": "l07KSoi5Qzwa"
      },
      "outputs": [],
      "execution_count": 24
    },
    {
      "cell_type": "code",
      "source": [
        "LR_Accuracy_Score = accuracy_score(y_test, predictions)\n",
        "LR_JaccardIndex = jaccard_score(y_test, predictions)\n",
        "LR_F1_Score = f1_score(y_test,predictions)\n",
        "LR_Log_Loss = log_loss(y_test, predict_proba)\n",
        "print(f\"Accuracy_Score:\\t{LR_Accuracy_Score}\\nJaccard Index:\\t{LR_JaccardIndex}\\nF1-Score:\\t{LR_F1_Score}\\nLogLoss:\\t{LR_Log_Loss}\")"
      ],
      "metadata": {
        "trusted": true,
        "id": "2aORniJxQzwc",
        "outputId": "07959191-1150-4cd5-ff7f-983aff4e6905",
        "colab": {
          "base_uri": "https://localhost:8080/"
        }
      },
      "outputs": [
        {
          "output_type": "stream",
          "name": "stdout",
          "text": [
            "Accuracy_Score:\t0.8366412213740458\n",
            "Jaccard Index:\t0.5091743119266054\n",
            "F1-Score:\t0.6747720364741641\n",
            "LogLoss:\t0.3812590636097066\n"
          ]
        }
      ],
      "execution_count": 25
    },
    {
      "cell_type": "markdown",
      "source": [
        "# SVM\n"
      ],
      "metadata": {
        "id": "2jraFL9LQzwd"
      }
    },
    {
      "cell_type": "code",
      "source": [
        "SVM = svm.SVC(kernel='rbf').fit(x_train, y_train)"
      ],
      "metadata": {
        "trusted": true,
        "id": "2ugyay72Qzwf"
      },
      "outputs": [],
      "execution_count": 26
    },
    {
      "cell_type": "code",
      "source": [
        "predictions = SVM.predict(x_test)"
      ],
      "metadata": {
        "trusted": true,
        "id": "P6bOd2QRQzwr"
      },
      "outputs": [],
      "execution_count": 27
    },
    {
      "cell_type": "code",
      "source": [
        "SVM_Accuracy_Score = accuracy_score(y_test, predictions)\n",
        "SVM_JaccardIndex = jaccard_score(y_test, predictions)\n",
        "SVM_F1_Score = f1_score(y_test, predictions)\n",
        "print(f\"Accuracy_Score:\\t{SVM_Accuracy_Score}\\nJaccard Index:\\t{SVM_JaccardIndex}\\nF1-Score:\\t{SVM_F1_Score}\")"
      ],
      "metadata": {
        "trusted": true,
        "id": "BTdos7NRQzws",
        "outputId": "a20d641b-c283-461a-a9df-6e92df3661f4",
        "colab": {
          "base_uri": "https://localhost:8080/"
        }
      },
      "outputs": [
        {
          "output_type": "stream",
          "name": "stdout",
          "text": [
            "Accuracy_Score:\t0.7221374045801526\n",
            "Jaccard Index:\t0.0\n",
            "F1-Score:\t0.0\n"
          ]
        }
      ],
      "execution_count": 28
    },
    {
      "cell_type": "markdown",
      "source": [
        "# Report\n"
      ],
      "metadata": {
        "id": "-Y0ISr24Qzwt"
      }
    },
    {
      "cell_type": "code",
      "source": [
        "C = [\"Algorithms\",\"Accuracy Score\",\"Jaccard_Index\",\"F1-Score\",\"LogLoss\"]\n",
        "table = [[\"KNN\", KNN_Accuracy_Score, KNN_JaccardIndex, KNN_F1_Score],\n",
        "         [\"Decision Tree\", Tree_Accuracy_Score, Tree_JaccardIndex, Tree_F1_Score],\n",
        "         [\"Logistics Regression\",LR_Accuracy_Score, LR_JaccardIndex, LR_F1_Score, LR_Log_Loss],\n",
        "         [\"SVM\",SVM_Accuracy_Score,SVM_JaccardIndex,SVM_F1_Score]]\n",
        "Report = pd.DataFrame(table, columns=C)\n",
        "print(Report)"
      ],
      "metadata": {
        "trusted": true,
        "id": "5hR018EDQzwu",
        "outputId": "d003801f-aa23-43b3-fc4c-48f093050959",
        "colab": {
          "base_uri": "https://localhost:8080/"
        }
      },
      "outputs": [
        {
          "output_type": "stream",
          "name": "stdout",
          "text": [
            "             Algorithms  Accuracy Score  Jaccard_Index  F1-Score   LogLoss\n",
            "0                   KNN        0.818321       0.425121  0.596610       NaN\n",
            "1         Decision Tree        0.755725       0.400749  0.572193       NaN\n",
            "2  Logistics Regression        0.836641       0.509174  0.674772  0.381259\n",
            "3                   SVM        0.722137       0.000000  0.000000       NaN\n"
          ]
        }
      ],
      "execution_count": 29
    }
  ]
}